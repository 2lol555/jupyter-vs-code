{
 "cells": [
  {
   "cell_type": "markdown",
   "metadata": {},
   "source": [
    "# for Cykly\n",
    "\n",
    "<code>for</code> cyklus funguje v Pythone ako iterátor; prechádza cez položky, ktoré sú v *sekvencii* alebo akoukoľvek inou iterovateľnou položkou. Medzi objekty, o ktorých sme sa naučili a ktoré môžeme iterovať, patria reťazce, zoznamy, n-tice a dokonca aj vstavané iterovateľné slovníky, ako sú kľúče alebo hodnoty.\n",
    "\n",
    "Tu je všeobecný formát <code>for</code> cyklu v Pythone:\n",
    "\n",
    "    for položka in objekt:\n",
    "        príkazy na vykonanie\n",
    "    "
   ]
  },
  {
   "cell_type": "markdown",
   "metadata": {},
   "source": [
    "Názov premennej použitej pre položku závisí výlučne od programátora, takže pri výbere názvu dbajte na to, aby pri opätovnom prezeraní kódu ste mu vedeli porozumieť. Na tento názov položky je možné potom odkazovať vo vašej slučke, napríklad ak chcete použiť príkazy <code>if</code> na vykonanie kontroly.\n",
    "\n",
    "Poďme ďalej a prejdime si niekoľko príkladov <code>for</code> cyklov pomocou rôznych typov dátových objektov. Začneme jednoducho a neskôr vytvoríme zložitejšie.\n",
    "\n",
    "## Príklad 1\n",
    "Iterácia cez zoznam"
   ]
  },
  {
   "cell_type": "code",
   "execution_count": 2,
   "metadata": {
    "collapsed": true
   },
   "outputs": [],
   "source": [
    "list1 = [1,2,3,4,5,6,7,8,9,10]"
   ]
  },
  {
   "cell_type": "code",
   "execution_count": 3,
   "metadata": {},
   "outputs": [
    {
     "name": "stdout",
     "output_type": "stream",
     "text": [
      "1\n",
      "2\n",
      "3\n",
      "4\n",
      "5\n",
      "6\n",
      "7\n",
      "8\n",
      "9\n",
      "10\n"
     ]
    }
   ],
   "source": [
    "for num in list1:\n",
    "    print(num)"
   ]
  },
  {
   "cell_type": "markdown",
   "metadata": {},
   "source": [
    "Skvelé! Snáď to dáva zmysel. Teraz pridajte príkaz <code>if</code> na kontrolu párnych čísel. Najprv tu predstavíme nový koncept - modulo.\n",
    "### Modulo\n",
    "Modulo nám umožňuje získať zvyšok delením a používa symbol %. Napríklad:"
   ]
  },
  {
   "cell_type": "code",
   "execution_count": 4,
   "metadata": {},
   "outputs": [
    {
     "data": {
      "text/plain": [
       "2"
      ]
     },
     "execution_count": 4,
     "metadata": {},
     "output_type": "execute_result"
    }
   ],
   "source": [
    "17 % 5"
   ]
  },
  {
   "cell_type": "markdown",
   "metadata": {},
   "source": [
    "To dáva zmysel, pretože 17 delené 5 sú 3 zvyšok 2. Pozrime sa na niekoľko ďalších rýchlych príkladov:"
   ]
  },
  {
   "cell_type": "code",
   "execution_count": 4,
   "metadata": {},
   "outputs": [
    {
     "data": {
      "text/plain": [
       "1"
      ]
     },
     "execution_count": 4,
     "metadata": {},
     "output_type": "execute_result"
    }
   ],
   "source": [
    "# 3 zvyšok 1\n",
    "10 % 3"
   ]
  },
  {
   "cell_type": "code",
   "execution_count": 5,
   "metadata": {},
   "outputs": [
    {
     "data": {
      "text/plain": [
       "4"
      ]
     },
     "execution_count": 5,
     "metadata": {},
     "output_type": "execute_result"
    }
   ],
   "source": [
    "# 2 zvyšok 4\n",
    "18 % 7"
   ]
  },
  {
   "cell_type": "code",
   "execution_count": 6,
   "metadata": {},
   "outputs": [
    {
     "data": {
      "text/plain": [
       "0"
      ]
     },
     "execution_count": 6,
     "metadata": {},
     "output_type": "execute_result"
    }
   ],
   "source": [
    "# 2 žiaden zvyšok\n",
    "4 % 2"
   ]
  },
  {
   "cell_type": "markdown",
   "metadata": {},
   "source": [
    "Všimnite si, že ak je číslo plne deliteľné bez zvyšku, výsledkom modulo-volania je 0. Môžeme to použiť na testovanie párnych čísel, pretože ak sa číslo modulo 2 rovná 0, znamená to, že ide o párne číslo!\n",
    "\n",
    "Späť na <code>for</code> cykly!\n",
    "\n",
    "## Príklad 2\n",
    "Vytlačíme len párne čísla z tohto zoznamu!"
   ]
  },
  {
   "cell_type": "code",
   "execution_count": 5,
   "metadata": {},
   "outputs": [
    {
     "name": "stdout",
     "output_type": "stream",
     "text": [
      "2\n",
      "4\n",
      "6\n",
      "8\n",
      "10\n"
     ]
    }
   ],
   "source": [
    "for num in list1:\n",
    "    if num % 2 == 0:\n",
    "        print(num)"
   ]
  },
  {
   "cell_type": "markdown",
   "metadata": {},
   "source": [
    "Mohli sme tam vložiť aj príkaz <code>else</code>:"
   ]
  },
  {
   "cell_type": "code",
   "execution_count": 6,
   "metadata": {},
   "outputs": [
    {
     "name": "stdout",
     "output_type": "stream",
     "text": [
      "Nepárne číslo\n",
      "2\n",
      "Nepárne číslo\n",
      "4\n",
      "Nepárne číslo\n",
      "6\n",
      "Nepárne číslo\n",
      "8\n",
      "Nepárne číslo\n",
      "10\n"
     ]
    }
   ],
   "source": [
    "for num in list1:\n",
    "    if num % 2 == 0:\n",
    "        print(num)\n",
    "    else:\n",
    "        print('Nepárne číslo')"
   ]
  },
  {
   "cell_type": "markdown",
   "metadata": {},
   "source": [
    "## Príklad 3\n",
    "Ďalšou bežnou myšlienkou počas cyklu <code>for</code> je udržiavanie určitého druhu priebežného záznamu počas viacerých cyklov. Vytvorme napríklad cyklus <code>for</code>, ktorý zhrnie zoznam:"
   ]
  },
  {
   "cell_type": "code",
   "execution_count": 7,
   "metadata": {},
   "outputs": [
    {
     "name": "stdout",
     "output_type": "stream",
     "text": [
      "55\n"
     ]
    }
   ],
   "source": [
    "# Počiatočný súčet na nule\n",
    "list_sum = 0 \n",
    "\n",
    "for num in list1:\n",
    "    list_sum = list_sum + num\n",
    "\n",
    "print(list_sum)"
   ]
  },
  {
   "cell_type": "markdown",
   "metadata": {},
   "source": [
    "Skvelé! Prečítajte si vyššie uvedenú bunku a uistite sa, že úplne rozumiete tomu, čo sa deje. Tiež sme mohli implementovať <code>+=</code> na vykonanie sčítania k súčtu. Napríklad:"
   ]
  },
  {
   "cell_type": "code",
   "execution_count": 8,
   "metadata": {},
   "outputs": [
    {
     "name": "stdout",
     "output_type": "stream",
     "text": [
      "55\n"
     ]
    }
   ],
   "source": [
    "# Počiatočný súčet na nule\n",
    "list_sum = 0 \n",
    "\n",
    "for num in list1:\n",
    "    list_sum += num\n",
    "\n",
    "print(list_sum)"
   ]
  },
  {
   "cell_type": "markdown",
   "metadata": {},
   "source": [
    "## Príklad 4\n",
    "Použili sme <code>for</code> cykly so zoznamami, ako je to s reťazcami? Pamätajte, že reťazce sú sekvencie, takže keď budeme cez ne iterovať, budeme pristupovať ku každej položke v tomto reťazci."
   ]
  },
  {
   "cell_type": "code",
   "execution_count": 9,
   "metadata": {},
   "outputs": [
    {
     "name": "stdout",
     "output_type": "stream",
     "text": [
      "T\n",
      "o\n",
      "t\n",
      "o\n",
      " \n",
      "j\n",
      "e\n",
      " \n",
      "r\n",
      "e\n",
      "ť\n",
      "a\n",
      "z\n",
      "e\n",
      "c\n",
      ".\n"
     ]
    }
   ],
   "source": [
    "for letter in 'Toto je reťazec.':\n",
    "    print(letter)"
   ]
  },
  {
   "cell_type": "markdown",
   "metadata": {},
   "source": [
    "## Príklad 5\n",
    "Pozrime sa teraz na to, ako možno použiť cyklus <code>for</code> s n-ticou:"
   ]
  },
  {
   "cell_type": "code",
   "execution_count": 10,
   "metadata": {},
   "outputs": [
    {
     "name": "stdout",
     "output_type": "stream",
     "text": [
      "1\n",
      "2\n",
      "3\n",
      "4\n",
      "5\n"
     ]
    }
   ],
   "source": [
    "tup = (1,2,3,4,5)\n",
    "\n",
    "for t in tup:\n",
    "    print(t)"
   ]
  },
  {
   "cell_type": "markdown",
   "metadata": {},
   "source": [
    "## Príklad 6\n",
    "N-tice majú špeciálnu kvalitu, pokiaľ ide o <code>for</code> cykly. Ak prechádzate cez sekvenciu, ktorá obsahuje n-tice, položka môže byť v skutočnosti samotná n-tica, toto je príklad *rozbaľovania n-tice*. Počas <code>for</code> cyklu rozbalíme n-ticu vo vnútri sekvencie a môžeme pristupovať k jednotlivým položkám vo vnútri tejto n-tice!"
   ]
  },
  {
   "cell_type": "code",
   "execution_count": 11,
   "metadata": {
    "collapsed": true
   },
   "outputs": [],
   "source": [
    "list2 = [(2,4),(6,8),(10,12)]"
   ]
  },
  {
   "cell_type": "code",
   "execution_count": 12,
   "metadata": {},
   "outputs": [
    {
     "name": "stdout",
     "output_type": "stream",
     "text": [
      "(2, 4)\n",
      "(6, 8)\n",
      "(10, 12)\n"
     ]
    }
   ],
   "source": [
    "for tup in list2:\n",
    "    print(tup)"
   ]
  },
  {
   "cell_type": "code",
   "execution_count": 13,
   "metadata": {},
   "outputs": [
    {
     "name": "stdout",
     "output_type": "stream",
     "text": [
      "2\n",
      "6\n",
      "10\n"
     ]
    }
   ],
   "source": [
    "# Teraz rozbalenie!\n",
    "for (t1,t2) in list2:\n",
    "    print(t1)"
   ]
  },
  {
   "cell_type": "markdown",
   "metadata": {},
   "source": [
    "Super! S n-ticami v poradí máme prístup k položkám v nich po rozbalení! Dôvodom prečo je to dôležité, je že mnohé objekty doručia svoje iterovateľné položky cez n-tice. Začnime skúmať iteráciu cez slovníky, aby sme to preskúmali ďalej!"
   ]
  },
  {
   "cell_type": "markdown",
   "metadata": {},
   "source": [
    "## Príklad 7"
   ]
  },
  {
   "cell_type": "code",
   "execution_count": 14,
   "metadata": {
    "collapsed": true
   },
   "outputs": [],
   "source": [
    "d = {'k1':1,'k2':2,'k3':3}"
   ]
  },
  {
   "cell_type": "code",
   "execution_count": 15,
   "metadata": {},
   "outputs": [
    {
     "name": "stdout",
     "output_type": "stream",
     "text": [
      "k1\n",
      "k2\n",
      "k3\n"
     ]
    }
   ],
   "source": [
    "for item in d:\n",
    "    print(item)"
   ]
  },
  {
   "cell_type": "markdown",
   "metadata": {},
   "source": [
    "Všimnite si, ako to vytvára iba kľúče. Ako teda môžeme získať hodnoty? Alebo aj kľúče aj hodnoty?\n",
    "\n",
    "Predstavíme tri nové metódy slovníka: **.keys()**, **.values()** a **.items()**\n",
    "\n",
    "V Pythone každá z týchto metód vracia *dictionary view object*. Podporuje operácie ako test členstva a iteráciu, ale jeho obsah nie je nezávislý od pôvodného slovníka – je to len pohľad. Pozrime sa na to v akcii:"
   ]
  },
  {
   "cell_type": "code",
   "execution_count": 16,
   "metadata": {},
   "outputs": [
    {
     "data": {
      "text/plain": [
       "dict_items([('k1', 1), ('k2', 2), ('k3', 3)])"
      ]
     },
     "execution_count": 16,
     "metadata": {},
     "output_type": "execute_result"
    }
   ],
   "source": [
    "# Vytvorte objekt zobrazenia slovníka\n",
    "d.items()"
   ]
  },
  {
   "cell_type": "markdown",
   "metadata": {},
   "source": [
    "Keďže metóda .items() podporuje iteráciu, môžeme vykonať *dictionary unpacking* na oddelenie kľúčov a hodnôt rovnako ako v predchádzajúcich príkladoch."
   ]
  },
  {
   "cell_type": "code",
   "execution_count": 17,
   "metadata": {},
   "outputs": [
    {
     "name": "stdout",
     "output_type": "stream",
     "text": [
      "k1\n",
      "1\n",
      "k2\n",
      "2\n",
      "k3\n",
      "3\n"
     ]
    }
   ],
   "source": [
    "# Rozbaľovanie slovníka\n",
    "for k,v in d.items():\n",
    "    print(k)\n",
    "    print(v) "
   ]
  },
  {
   "cell_type": "markdown",
   "metadata": {},
   "source": [
    "Ak chcete získať skutočný zoznam kľúčov, hodnôt alebo párov kľúč/hodnota, môžete zobrazenie *preniesť* ako zoznam:"
   ]
  },
  {
   "cell_type": "code",
   "execution_count": 18,
   "metadata": {},
   "outputs": [
    {
     "data": {
      "text/plain": [
       "['k1', 'k2', 'k3']"
      ]
     },
     "execution_count": 18,
     "metadata": {},
     "output_type": "execute_result"
    }
   ],
   "source": [
    "list(d.keys())"
   ]
  },
  {
   "cell_type": "markdown",
   "metadata": {},
   "source": [
    "Pamätajte, že slovníky nie sú usporiadané a že kľúče a hodnoty sa vracajú v ľubovoľnom poradí. Zoradený zoznam môžete získať pomocou sorted():"
   ]
  },
  {
   "cell_type": "code",
   "execution_count": 21,
   "metadata": {},
   "outputs": [
    {
     "data": {
      "text/plain": [
       "[1, 2, 3]"
      ]
     },
     "execution_count": 21,
     "metadata": {},
     "output_type": "execute_result"
    }
   ],
   "source": [
    "sorted(d.values())"
   ]
  },
  {
   "cell_type": "markdown",
   "metadata": {},
   "source": [
    "## Záver\n",
    "\n",
    "Naučili sme sa, ako používať cykly for na iteráciu cez n-tice, zoznamy, reťazce a slovníky. Bude to pre nás dôležitý nástroj, takže sa uistite, že ho dobre poznáte a rozumiete vyššie uvedeným príkladom.\n"
   ]
  }
 ],
 "metadata": {
  "kernelspec": {
   "display_name": "Python 3",
   "language": "python",
   "name": "python3"
  },
  "language_info": {
   "codemirror_mode": {
    "name": "ipython",
    "version": 3
   },
   "file_extension": ".py",
   "mimetype": "text/x-python",
   "name": "python",
   "nbconvert_exporter": "python",
   "pygments_lexer": "ipython3",
   "version": "3.10.0"
  }
 },
 "nbformat": 4,
 "nbformat_minor": 1
}
