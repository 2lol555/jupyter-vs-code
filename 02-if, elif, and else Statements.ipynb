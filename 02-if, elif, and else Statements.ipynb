{
 "cells": [
  {
   "cell_type": "markdown",
   "metadata": {},
   "source": [
    "# if, elif, else Podmienky\n",
    "\n",
    "<code>if</code> príkazy v Pythone nám umožňujú povedať počítaču, aby vykonal alternatívne akcie na základe určitého súboru výsledkov.\n",
    "\n",
    "Môžeme si predstaviť, že hovoríme počítaču:\n",
    "\n",
    "\"Hej, ak sa splní táto podmienka (toto sa stane), vykonaj toto\"\n",
    "\n",
    "Môžeme to ďalej rozšíriť s <code>elif</code> and <code>else</code> príkazmy, ktoré nám umožňujú povedať počítaču:\n",
    "\n",
    "\"Hej, ak sa splní táto podmienka, vykonaj toto. V opačnom prípade, ak nastane iný prípad, vykonaj inú akciu. V opačnom prípade, ak sa nestal *žiadny* z vyššie uvedených prípadov, vykonaj túto akciu.\"\n",
    "\n",
    "Poďme sa pozrieť na formát syntaxe pre príkazy <code>if</code>, aby sme o tom získali lepšiu predstavu:\n",
    "\n",
    "    if case1:\n",
    "        perform action1\n",
    "    elif case2:\n",
    "        perform action2\n",
    "    else: \n",
    "        perform action3"
   ]
  },
  {
   "cell_type": "markdown",
   "metadata": {},
   "source": [
    "## Prvý príklad\n",
    "\n",
    "Pozrime sa na rýchly príklad:"
   ]
  },
  {
   "cell_type": "code",
   "execution_count": 1,
   "metadata": {},
   "outputs": [
    {
     "name": "stdout",
     "output_type": "stream",
     "text": [
      "Je to pravda!\n"
     ]
    }
   ],
   "source": [
    "if True:\n",
    "    print('Je to pravda!')"
   ]
  },
  {
   "cell_type": "markdown",
   "metadata": {},
   "source": [
    "Poďme pridať ďalšiu logiku:"
   ]
  },
  {
   "cell_type": "code",
   "execution_count": 2,
   "metadata": {},
   "outputs": [
    {
     "name": "stdout",
     "output_type": "stream",
     "text": [
      "x bola Pravda!\n",
      "Budem vypísaný v každom prípade, keď x nie je pravda\n",
      "Budem vypísaný v každom prípade, keď x nie je pravda\n",
      "x bola Pravda!\n",
      "Budem vypísaný v každom prípade, keď x nie je pravda\n"
     ]
    }
   ],
   "source": [
    "def je_x_pravda():\n",
    "    global x\n",
    "\n",
    "    if x:\n",
    "        print('x bola Pravda!')\n",
    "    else:\n",
    "        print('Budem vypísaný v každom prípade, keď x nie je pravda')\n",
    "\n",
    "x = True\n",
    "je_x_pravda()\n",
    "\n",
    "x = False\n",
    "je_x_pravda()\n",
    "\n",
    "x = not True\n",
    "je_x_pravda()\n",
    "\n",
    "x = 5 == 3 + 2\n",
    "je_x_pravda()\n",
    "\n",
    "x = 5 + 5 == 11\n",
    "je_x_pravda()"
   ]
  },
  {
   "cell_type": "markdown",
   "metadata": {},
   "source": [
    "### Viaceré vetvy\n",
    "\n",
    "Poďme si urobiť lepší obraz o tom, ako ďaleko nás môžu doviesť <code>if</code>, <code>elif</code> a <code>else</code>!\n",
    "\n",
    "Zapisujeme to do vnorenej štruktúry. Všimnite si, ako sú v kóde zoradené <code>if</code>, <code>elif</code> a <code>else</code>. To vám môže pomôcť zistiť, ktoré <code>if</code> súvisí s akými výrokmi <code>elif</code> alebo <code>else</code>.\n",
    "\n",
    "Znovu zavedieme porovnávaciu syntax pre Python."
   ]
  },
  {
   "cell_type": "code",
   "execution_count": 3,
   "metadata": {},
   "outputs": [
    {
     "name": "stdout",
     "output_type": "stream",
     "text": [
      "Vitajte v banke!\n"
     ]
    }
   ],
   "source": [
    "loc = 'Banka'\n",
    "\n",
    "if loc == 'Predajna aut':\n",
    "    print('Vitajte v predajni aut!')\n",
    "elif loc == 'Banka':\n",
    "    print('Vitajte v banke!')\n",
    "else:\n",
    "    print('Kde si?')"
   ]
  },
  {
   "cell_type": "markdown",
   "metadata": {},
   "source": [
    "Všimnite si, ako sú jednotlivé vnorené príkazy <code>if</code> kontrolované, kým True boolean nespôsobí spustenie vnoreného kódu pod ním. Mali by ste si tiež uvedomiť, že môžete zadať toľko príkazov <code>elif</code>, koľko chcete, predtým, než zatvoríte príkaz <code>else</code>.\n",
    "\n",
    "Vytvorme ďalšie dva jednoduché príklady pre príkazy <code>if</code>, <code>elif</code> a <code>else</code>:"
   ]
  },
  {
   "cell_type": "code",
   "execution_count": 7,
   "metadata": {},
   "outputs": [
    {
     "name": "stdout",
     "output_type": "stream",
     "text": [
      "Zdravím, ako sa voláte?\n"
     ]
    }
   ],
   "source": [
    "person = None\n",
    "\n",
    "if person:\n",
    "    print(f'Ahoj {person}')\n",
    "else:\n",
    "    print(\"Zdravím, ako sa voláte?\")"
   ]
  },
  {
   "cell_type": "code",
   "execution_count": 5,
   "metadata": {},
   "outputs": [
    {
     "name": "stdout",
     "output_type": "stream",
     "text": [
      "Ahoj Ján!\n"
     ]
    }
   ],
   "source": [
    "person = 'Ján'\n",
    "\n",
    "if person == 'Samuel':\n",
    "    print('Ahoj Samuel!')\n",
    "elif person =='Ján':\n",
    "    print('Ahoj Ján!')\n",
    "else:\n",
    "    print(\"Zdravím, ako sa voláte?\")"
   ]
  },
  {
   "cell_type": "markdown",
   "metadata": {},
   "source": [
    "## Odsadenie\n",
    "\n",
    "Je dôležité dobre pochopiť, ako funguje odsadenie v Pythone, aby sa zachovala štruktúra a poradie vášho kódu. Tejto témy sa opäť dotkneme, keď začneme budovať funkcie!"
   ]
  }
 ],
 "metadata": {
  "kernelspec": {
   "display_name": "Python 3",
   "language": "python",
   "name": "python3"
  },
  "language_info": {
   "codemirror_mode": {
    "name": "ipython",
    "version": 3
   },
   "file_extension": ".py",
   "mimetype": "text/x-python",
   "name": "python",
   "nbconvert_exporter": "python",
   "pygments_lexer": "ipython3",
   "version": "3.10.0"
  }
 },
 "nbformat": 4,
 "nbformat_minor": 1
}
