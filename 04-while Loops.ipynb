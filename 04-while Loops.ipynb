{
 "cells": [
  {
   "cell_type": "markdown",
   "metadata": {
    "collapsed": true
   },
   "source": [
    "# while cyklus\n",
    "\n",
    "Príkaz <code>while</code> v Pythone je jedným z najvšeobecnejších spôsobov vykonávania iterácie. Príkaz <code>while</code> bude opakovane vykonávať jeden príkaz alebo skupinu príkazov, pokiaľ je podmienka splnená. Dôvodom, prečo sa to nazýva „cyklus“, je to, že príkazy kódu sa opakujú znova a znova, kým podmienka už nie je splnená.\n",
    "\n",
    "Všeobecný formát cyklu while je:\n",
    "\n",
    "    while test:\n",
    "        code statements\n",
    "    else:\n",
    "        final code statements\n",
    "\n",
    "Pozrime sa na niekoľko jednoduchých cyklov <code>while</code> v akcii."
   ]
  },
  {
   "cell_type": "code",
   "execution_count": 1,
   "metadata": {},
   "outputs": [
    {
     "name": "stdout",
     "output_type": "stream",
     "text": [
      "x je momentálne:  0\n",
      " x je stále menej ako 10, pridávam 1 k x\n",
      "x je momentálne:  1\n",
      " x je stále menej ako 10, pridávam 1 k x\n",
      "x je momentálne:  2\n",
      " x je stále menej ako 10, pridávam 1 k x\n",
      "x je momentálne:  3\n",
      " x je stále menej ako 10, pridávam 1 k x\n",
      "x je momentálne:  4\n",
      " x je stále menej ako 10, pridávam 1 k x\n",
      "x je momentálne:  5\n",
      " x je stále menej ako 10, pridávam 1 k x\n",
      "x je momentálne:  6\n",
      " x je stále menej ako 10, pridávam 1 k x\n",
      "x je momentálne:  7\n",
      " x je stále menej ako 10, pridávam 1 k x\n",
      "x je momentálne:  8\n",
      " x je stále menej ako 10, pridávam 1 k x\n",
      "x je momentálne:  9\n",
      " x je stále menej ako 10, pridávam 1 k x\n"
     ]
    }
   ],
   "source": [
    "x = 0\n",
    "\n",
    "while x < 10:\n",
    "    print('x je momentálne: ',x)\n",
    "    print(' x je stále menej ako 10, pridávam 1 k x')\n",
    "    x+=1"
   ]
  },
  {
   "cell_type": "markdown",
   "metadata": {},
   "source": [
    "Všimnite si, koľkokrát sa vyskytli príkazy print a ako cyklus <code>while</code> pokračoval, kým nebola splnená podmienka True, čo sa stalo keď x==10. Je dôležité poznamenať, že akonáhle k tomu dôjde, kód sa zastaví. Pozrime sa, ako by sme mohli pridať príkaz <code>else</code>:"
   ]
  },
  {
   "cell_type": "code",
   "execution_count": 2,
   "metadata": {},
   "outputs": [
    {
     "name": "stdout",
     "output_type": "stream",
     "text": [
      "x je momentálne:  0\n",
      " x je stále menej ako 10, pridávam 1 k x\n",
      "x je momentálne:  1\n",
      " x je stále menej ako 10, pridávam 1 k x\n",
      "x je momentálne:  2\n",
      " x je stále menej ako 10, pridávam 1 k x\n",
      "x je momentálne:  3\n",
      " x je stále menej ako 10, pridávam 1 k x\n",
      "x je momentálne:  4\n",
      " x je stále menej ako 10, pridávam 1 k x\n",
      "x je momentálne:  5\n",
      " x je stále menej ako 10, pridávam 1 k x\n",
      "x je momentálne:  6\n",
      " x je stále menej ako 10, pridávam 1 k x\n",
      "x je momentálne:  7\n",
      " x je stále menej ako 10, pridávam 1 k x\n",
      "x je momentálne:  8\n",
      " x je stále menej ako 10, pridávam 1 k x\n",
      "x je momentálne:  9\n",
      " x je stále menej ako 10, pridávam 1 k x\n",
      "Hotovo!\n"
     ]
    }
   ],
   "source": [
    "x = 0\n",
    "\n",
    "while x < 10:\n",
    "    print('x je momentálne: ',x)\n",
    "    print(' x je stále menej ako 10, pridávam 1 k x')\n",
    "    x+=1\n",
    "    \n",
    "else:\n",
    "    print('Hotovo!')"
   ]
  },
  {
   "cell_type": "markdown",
   "metadata": {},
   "source": [
    "# break, continue, pass\n",
    "\n",
    "V našich cykloch môžeme použiť príkazy <code>break</code>, <code>continue</code> a <code>pass</code> na pridanie ďalších funkcií pre rôzne prípady. Tieto tri vyhlásenia sú definované:\n",
    "\n",
    "    break: Vytrhne sa z aktuálnej najbližšej uzatváracej slučky.\n",
    "    continue: Prejde na vrchol najbližšej uzatváracej slučky.\n",
    "    pass: Nerobí vôbec nič.\n",
    "    \n",
    "    \n",
    "Keď sa zamyslíte nad príkazmi <code>break</code> a <code>continue</code>, všeobecný formát cyklu <code>while</code> vyzerá takto:\n",
    "\n",
    "    while test: \n",
    "        code statement\n",
    "        if test: \n",
    "            break\n",
    "        if test: \n",
    "            continue \n",
    "    else:\n",
    "\n",
    "Príkazy <code>break</code> a <code>continue</code> sa môžu objaviť kdekoľvek v tele cyklu, ale zvyčajne ich umiestnime neskôr vnorené do spojenia s príkazom <code>if</code>, aby sme vykonali príkazy na základe nejakej podmienky.\n",
    "\n",
    "Poďme ďalej a pozrime sa na niekoľko príkladov!"
   ]
  },
  {
   "cell_type": "code",
   "execution_count": 6,
   "metadata": {},
   "outputs": [
    {
     "name": "stdout",
     "output_type": "stream",
     "text": [
      "x je momentálne:  0\n",
      " x je stále menej ako 10, pridávam 1 k x\n",
      "pokračujem...\n",
      "x je momentálne:  1\n",
      " x je stále menej ako 10, pridávam 1 k x\n",
      "pokračujem...\n",
      "x je momentálne:  2\n",
      " x je stále menej ako 10, pridávam 1 k x\n",
      "x==3\n",
      "x je momentálne:  3\n",
      " x je stále menej ako 10, pridávam 1 k x\n",
      "pokračujem...\n",
      "x je momentálne:  4\n",
      " x je stále menej ako 10, pridávam 1 k x\n",
      "pokračujem...\n",
      "x je momentálne:  5\n",
      " x je stále menej ako 10, pridávam 1 k x\n",
      "pokračujem...\n",
      "x je momentálne:  6\n",
      " x je stále menej ako 10, pridávam 1 k x\n",
      "pokračujem...\n",
      "x je momentálne:  7\n",
      " x je stále menej ako 10, pridávam 1 k x\n",
      "pokračujem...\n",
      "x je momentálne:  8\n",
      " x je stále menej ako 10, pridávam 1 k x\n",
      "pokračujem...\n",
      "x je momentálne:  9\n",
      " x je stále menej ako 10, pridávam 1 k x\n",
      "pokračujem...\n"
     ]
    }
   ],
   "source": [
    "x = 0\n",
    "\n",
    "while x < 10:\n",
    "    print('x je momentálne: ',x)\n",
    "    print(' x je stále menej ako 10, pridávam 1 k x')\n",
    "    x+=1\n",
    "    if x==3:\n",
    "        print('x==3')\n",
    "    else:\n",
    "        print('pokračujem...')\n",
    "        continue\n",
    "        "
   ]
  },
  {
   "cell_type": "markdown",
   "metadata": {},
   "source": [
    "Všimnite si, ako máme vytlačený príkaz, keď x==3, a pokračovanie sa vytlačí, keď pokračujeme cez vonkajšiu slučku while. Urobme break keď x == 3 a uvidíme, či výsledok dáva zmysel:"
   ]
  },
  {
   "cell_type": "code",
   "execution_count": 7,
   "metadata": {},
   "outputs": [
    {
     "name": "stdout",
     "output_type": "stream",
     "text": [
      "x je momentálne:  0\n",
      " x je stále menej ako 10, pridávam 1 k x\n",
      "Pokračujem...\n",
      "x je momentálne:  1\n",
      " x je stále menej ako 10, pridávam 1 k x\n",
      "Pokračujem...\n",
      "x je momentálne:  2\n",
      " x je stále menej ako 10, pridávam 1 k x\n",
      "Prerušujem lebo x==3\n"
     ]
    }
   ],
   "source": [
    "x = 0\n",
    "\n",
    "while x < 10:\n",
    "    print('x je momentálne: ',x)\n",
    "    print(' x je stále menej ako 10, pridávam 1 k x')\n",
    "    x+=1\n",
    "    if x==3:\n",
    "        print('Prerušujem lebo x==3')\n",
    "        break\n",
    "    else:\n",
    "        print('Pokračujem...')\n",
    "        continue"
   ]
  },
  {
   "cell_type": "markdown",
   "metadata": {},
   "source": [
    "Všimnite si, že druhý príkaz <code>else</code> nebol dosiahnutý a pokračovanie nebolo nikdy vytlačené!\n",
    "\n",
    "Po týchto krátkych, ale jednoduchých príkladoch by ste sa mali cítiť ako doma pri používaní príkazov <code>while</code> v kóde.\n",
    "\n",
    "**Ale pozor! Pomocou príkazov <code>while</code> je možné vytvoriť nekonečnú slučku. Napríklad:**"
   ]
  },
  {
   "cell_type": "code",
   "execution_count": null,
   "metadata": {
    "collapsed": true
   },
   "outputs": [],
   "source": [
    "# NESPÚŠŤAJTE TENTO KÓD!!!! \n",
    "while True:\n",
    "    print(\"Uviazol som v nekonečnej slučke!\")"
   ]
  },
  {
   "cell_type": "markdown",
   "metadata": {
    "collapsed": true
   },
   "source": [
    "Rýchla poznámka: Ak ste *spustili* vyššie uvedenú bunku, kliknite na vyššie uvedenú ponuku Kernel a reštartujte ho! "
   ]
  }
 ],
 "metadata": {
  "kernelspec": {
   "display_name": "Python 3",
   "language": "python",
   "name": "python3"
  },
  "language_info": {
   "codemirror_mode": {
    "name": "ipython",
    "version": 3
   },
   "file_extension": ".py",
   "mimetype": "text/x-python",
   "name": "python",
   "nbconvert_exporter": "python",
   "pygments_lexer": "ipython3",
   "version": "3.10.0"
  }
 },
 "nbformat": 4,
 "nbformat_minor": 1
}
