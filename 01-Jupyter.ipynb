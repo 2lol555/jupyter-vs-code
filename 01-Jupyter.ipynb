{
 "cells": [
  {
   "cell_type": "markdown",
   "metadata": {},
   "source": [
    "# Jupyter\n",
    "## Prečo Jupyter?\n",
    "- Jupyter je najrozšírenejší nástroj pre prácu s dátami v programovacom jazyku Python\n",
    "- Umožňuje jednoduchú tvorbu zápiskov pri kódovaní\n",
    "- Je to perfektný vzdelávací nástroj\n",
    "\n",
    "## Prečo je výhodné používať Jupyter vo vývojovom prostredí Visual Studio Code?\n",
    "- Nemusíme otvárať žiadne iné nástroje\n",
    "- Umožňuje zbehnúť takmer celú funkcionalitu Jupyter zápisníkov priamo vo vývojovom prostredí"
   ]
  },
  {
   "cell_type": "markdown",
   "metadata": {},
   "source": [
    "### Poďme si ukázať ako to celé funguje\n",
    "Jednoduchý blok kódu:"
   ]
  },
  {
   "cell_type": "code",
   "execution_count": 4,
   "metadata": {},
   "outputs": [
    {
     "name": "stdout",
     "output_type": "stream",
     "text": [
      "Funguje to!!!\n"
     ]
    }
   ],
   "source": [
    "my_string = \"!!!ot ejugnuF\" # Funguje to (od zadu)\n",
    "print(my_string[::-1]) # Vytlač my_string od zadu"
   ]
  },
  {
   "cell_type": "markdown",
   "metadata": {},
   "source": [
    "Sem si môžeme poznámkovať všetko čo o výstupe vieme, napríklad to že sme použili otáčanie stringov"
   ]
  },
  {
   "cell_type": "markdown",
   "metadata": {},
   "source": [
    "#### Poďme si ukázať ako to funguje v praxi"
   ]
  }
 ],
 "metadata": {
  "interpreter": {
   "hash": "72f3da0796ad220a0f4df7e3a0d0e6430e0d22e14e5b4578774b87a83548941b"
  },
  "kernelspec": {
   "display_name": "Python 3.9.7 64-bit",
   "language": "python",
   "name": "python3"
  },
  "language_info": {
   "codemirror_mode": {
    "name": "ipython",
    "version": 3
   },
   "file_extension": ".py",
   "mimetype": "text/x-python",
   "name": "python",
   "nbconvert_exporter": "python",
   "pygments_lexer": "ipython3",
   "version": "3.9.7"
  },
  "orig_nbformat": 4
 },
 "nbformat": 4,
 "nbformat_minor": 2
}
